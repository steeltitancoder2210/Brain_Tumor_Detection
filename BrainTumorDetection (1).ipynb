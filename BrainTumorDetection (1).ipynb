{
  "nbformat": 4,
  "nbformat_minor": 0,
  "metadata": {
    "colab": {
      "provenance": []
    },
    "kernelspec": {
      "name": "python3",
      "display_name": "Python 3"
    },
    "language_info": {
      "name": "python"
    }
  },
  "cells": [
    {
      "cell_type": "code",
      "execution_count": null,
      "metadata": {
        "id": "7AKIzhK1rRDY"
      },
      "outputs": [],
      "source": [
        "import pandas as numpy\n",
        "import numpy as np\n",
        "import matplotlib.pyplot as plt\n",
        "from skimage.color import rgb2lab,lab2rgb\n",
        "from skimage.io import imread,imshow\n",
        "import shutil\n",
        "import os\n",
        "from tensorflow.keras.preprocessing.image import ImageDataGenerator\n",
        "from keras.layers import Conv2D, MaxPooling2D, UpSampling2D, Input, LeakyReLU\n",
        "from tensorflow.keras.preprocessing.image import load_img, img_to_array\n",
        "from keras.models import Sequential\n",
        "import math"
      ]
    },
    {
      "cell_type": "code",
      "source": [
        "from google.colab import drive\n",
        "\n",
        "drive.mount('/content/drive')"
      ],
      "metadata": {
        "id": "hbYz66whsPfD"
      },
      "execution_count": null,
      "outputs": []
    },
    {
      "cell_type": "code",
      "source": [
        "import zipfile\n",
        "with zipfile.ZipFile('/content/drive/My Drive/ML/Brain_tumour/Brain_Tumour_dataset.zip', 'r') as zip_ref:\n",
        "    zip_ref.extractall('/content/drive/My Drive/ML/Brain_tumour')"
      ],
      "metadata": {
        "id": "BOWsLr1qtvq8"
      },
      "execution_count": null,
      "outputs": []
    },
    {
      "cell_type": "code",
      "source": [
        "ROOT_DIR=\"/content/drive/MyDrive/ML/Brain_tumour/brain_tumor_dataset\"\n",
        "number_of_images={}\n",
        "for dir in os.listdir(ROOT_DIR):\n",
        "  number_of_images[dir]=len(os.listdir(os.path.join(ROOT_DIR,dir)))\n",
        "number_of_images.items()"
      ],
      "metadata": {
        "id": "eBIUtkgWDX2I"
      },
      "execution_count": null,
      "outputs": []
    },
    {
      "cell_type": "markdown",
      "source": [
        "we will create a training folder\n"
      ],
      "metadata": {
        "id": "IzXwrrBIvUsl"
      }
    },
    {
      "cell_type": "code",
      "source": [
        "src=\"/content/drive/MyDrive/ML/Brain_tumour/brain_tumor_dataset\"\n",
        "if not os.path.exists(\"./train\"):\n",
        "  os.mkdir(\"./train\")\n",
        "\n",
        "  for dir in os.listdir(src):\n",
        "    os.makedirs(\"./train/\"+dir)\n",
        "\n",
        "\n",
        "    for img in np.random.choice(a=os.listdir(os.path.join(src,dir)),\n",
        "                                  size=(math.floor(70/100*number_of_images[dir])),\n",
        "                                  replace =False ):\n",
        "      O=os.path.join(src,dir,img)\n",
        "      D=os.path.join(\"./train\",dir)\n",
        "      shutil.copy(O,D)\n",
        "      os.remove(O)\n",
        "\n",
        "else:\n",
        "  print(\"folder exist\")"
      ],
      "metadata": {
        "id": "l7MXFZJ5uLR9"
      },
      "execution_count": null,
      "outputs": []
    },
    {
      "cell_type": "code",
      "source": [
        "src=\"/content/drive/MyDrive/ML/Brain_tumour/brain_tumor_dataset\"\n",
        "if not os.path.exists(\"./valid\"):\n",
        "  os.mkdir(\"./valid\")\n",
        "\n",
        "  for dir in os.listdir(src):\n",
        "    os.makedirs(\"./valid/\"+dir)\n",
        "\n",
        "\n",
        "    for img in np.random.choice(a=os.listdir(os.path.join(src,dir)),\n",
        "                                  size=(math.floor(15/100*number_of_images[dir])),\n",
        "                                  replace =False ):\n",
        "      O=os.path.join(src,dir,img)\n",
        "      D=os.path.join(\"./valid\",dir)\n",
        "      shutil.copy(O,D)\n",
        "      os.remove(O)\n",
        "\n",
        "else:\n",
        "  print(\"folder exist\")"
      ],
      "metadata": {
        "id": "sw65vb3P5qd1"
      },
      "execution_count": null,
      "outputs": []
    },
    {
      "cell_type": "code",
      "source": [
        "src=\"/content/drive/MyDrive/ML/Brain_tumour/brain_tumor_dataset\"\n",
        "if not os.path.exists(\"./test\"):\n",
        "  os.mkdir(\"./test\")\n",
        "\n",
        "  for dir in os.listdir(src):\n",
        "    os.makedirs(\"./test/\"+dir)\n",
        "\n",
        "\n",
        "    for img in np.random.choice(a=os.listdir(os.path.join(src,dir)),\n",
        "                                  size=(math.floor(15/100*number_of_images[dir])),\n",
        "                                  replace =False ):\n",
        "      O=os.path.join(src,dir,img)\n",
        "      D=os.path.join(\"./test\",dir)\n",
        "      shutil.copy(O,D)\n",
        "      os.remove(O)\n",
        "\n",
        "else:\n",
        "  print(\"folder exist\")"
      ],
      "metadata": {
        "id": "QR-GU35v6qBT"
      },
      "execution_count": null,
      "outputs": []
    },
    {
      "cell_type": "code",
      "source": [
        "number_of_images={}\n",
        "for dir in os.listdir(ROOT_DIR):\n",
        "  number_of_images[dir]=len(os.listdir(os.path.join(ROOT_DIR,dir)))\n",
        "number_of_images.items()"
      ],
      "metadata": {
        "id": "0R2ylMX6Zb3j"
      },
      "execution_count": null,
      "outputs": []
    },
    {
      "cell_type": "markdown",
      "source": [
        "Model Build\n"
      ],
      "metadata": {
        "id": "28UCK-4Kg-bG"
      }
    },
    {
      "cell_type": "code",
      "source": [
        "from keras.layers import Conv2D,MaxPool2D, Dropout , Flatten ,Dense ,BatchNormalization, GlobalAvgPool2D\n",
        "from keras.models import Sequential\n",
        "from tensorflow.keras.preprocessing.image import ImageDataGenerator\n",
        "from keras.applications.mobilenet import MobileNet, preprocess_input\n",
        "import keras"
      ],
      "metadata": {
        "id": "ozt5GjHaZhIN"
      },
      "execution_count": null,
      "outputs": []
    },
    {
      "cell_type": "code",
      "source": [
        "model =Sequential()\n",
        "\n",
        "model.add(Conv2D(filters=16, kernel_size=(3,3), activation=\"relu\", input_shape =(224,224,3)))\n",
        "\n",
        "model.add(Conv2D(filters=36, kernel_size=(3,3), activation=\"relu\"))\n",
        "model.add(MaxPool2D(pool_size=(2,2)))\n",
        "\n",
        "model.add(Conv2D(filters=64, kernel_size=(3,3), activation=\"relu\"))\n",
        "model.add(MaxPool2D(pool_size=(2,2)))\n",
        "\n",
        "model.add(Conv2D(filters=128, kernel_size=(3,3), activation=\"relu\"))\n",
        "model.add(MaxPool2D(pool_size=(2,2)))\n",
        "\n",
        "model.add(Dropout(rate=0.25))\n",
        "\n",
        "model.add(Flatten())\n",
        "model.add(Dense(units=64 ,activation ='relu'))\n",
        "\n",
        "model.add(Dropout(rate=0.25))\n",
        "model.add(Dense(units=1 ,activation ='sigmoid'))\n",
        "\n",
        "model.summary()"
      ],
      "metadata": {
        "id": "jmSK7kxghj3t"
      },
      "execution_count": null,
      "outputs": []
    },
    {
      "cell_type": "code",
      "source": [
        "model.compile(optimizer='adam', loss=keras.losses.binary_crossentropy, metrics=['accuracy'])"
      ],
      "metadata": {
        "id": "-yYnVLHejPGb"
      },
      "execution_count": null,
      "outputs": []
    },
    {
      "cell_type": "code",
      "source": [
        "def preprocessingImage1(path):\n",
        "  \"\"\"\n",
        "  input : Path\n",
        "  output : Pre processed images\n",
        "  \"\"\"\n",
        "\n",
        "  image_data = ImageDataGenerator(zoom_range= 0.2, shear_range= 0.2, rescale=1/255, horizontal_flip=True)\n",
        "  image=image_data.flow_from_directory(directory= path, target_size= (224,224), batch_size= 32, class_mode = \"binary\")\n",
        "\n",
        "  return image"
      ],
      "metadata": {
        "id": "Wj1oj5dvjl-l"
      },
      "execution_count": null,
      "outputs": []
    },
    {
      "cell_type": "code",
      "source": [
        "path ='/content/train'\n",
        "train_data = preprocessingImage1(path)"
      ],
      "metadata": {
        "id": "L7V6tlw5wcI5"
      },
      "execution_count": null,
      "outputs": []
    },
    {
      "cell_type": "code",
      "source": [
        "def preprocessingImage2(path):\n",
        "  \"\"\"\n",
        "  input : Path\n",
        "  output : Pre processed images\n",
        "  \"\"\"\n",
        "\n",
        "  image_data = ImageDataGenerator(rescale=1/255)\n",
        "  image=image_data.flow_from_directory(directory= path, target_size= (224,224), batch_size= 32, class_mode = \"binary\")\n",
        "\n",
        "  return image"
      ],
      "metadata": {
        "id": "4yjr1lnGwq__"
      },
      "execution_count": null,
      "outputs": []
    },
    {
      "cell_type": "code",
      "source": [
        "path ='/content/valid'\n",
        "val_data = preprocessingImage2(path)"
      ],
      "metadata": {
        "id": "Gm0KWY6mw3Vf"
      },
      "execution_count": null,
      "outputs": []
    },
    {
      "cell_type": "code",
      "source": [
        "path ='/content/test'\n",
        "test_data = preprocessingImage2(path)"
      ],
      "metadata": {
        "id": "7SrCi0how7z6"
      },
      "execution_count": null,
      "outputs": []
    },
    {
      "cell_type": "code",
      "source": [
        "from keras.callbacks import ModelCheckpoint, EarlyStopping\n",
        "\n",
        "es=EarlyStopping(monitor='val_accuracy',min_delta=0.01,patience=3,verbose=1,mode ='auto')\n",
        "mc= ModelCheckpoint(monitor=\"val_accuracy\",filepath=\"./bestmodel.keras\", verbose=1 , save_best_only=True , mode ='auto')\n",
        "cd= [es,mc]"
      ],
      "metadata": {
        "id": "P_WzytbNxBys"
      },
      "execution_count": null,
      "outputs": []
    },
    {
      "cell_type": "code",
      "source": [
        "\n",
        "hs = model.fit(train_data,\n",
        "               steps_per_epoch=8,\n",
        "               epochs=50,\n",
        "               verbose=1,\n",
        "               validation_data=val_data,\n",
        "               validation_steps=16,\n",
        "               callbacks=cd)\n",
        "\n"
      ],
      "metadata": {
        "id": "y8nr5kVNAIw4"
      },
      "execution_count": null,
      "outputs": []
    },
    {
      "cell_type": "code",
      "source": [
        "# Model graphical"
      ],
      "metadata": {
        "id": "bETw1JD4oX-V"
      },
      "execution_count": null,
      "outputs": []
    },
    {
      "cell_type": "code",
      "source": [
        "h=hs.history\n",
        "h.keys()"
      ],
      "metadata": {
        "id": "aL3Fw3Ems-Hj"
      },
      "execution_count": null,
      "outputs": []
    },
    {
      "cell_type": "code",
      "source": [
        "plt.plot(h['accuracy'])\n",
        "plt.plot(h['val_accuracy'],c ='red')\n",
        "plt.show()"
      ],
      "metadata": {
        "id": "H41Q-5KMtFiP"
      },
      "execution_count": null,
      "outputs": []
    },
    {
      "cell_type": "code",
      "source": [
        "plt.plot(h['loss'])\n",
        "plt.plot(h['val_loss'],c ='red')\n",
        "plt.show()"
      ],
      "metadata": {
        "id": "UP2pf9u1ug4N"
      },
      "execution_count": null,
      "outputs": []
    },
    {
      "cell_type": "code",
      "source": [
        "# Accuracy"
      ],
      "metadata": {
        "id": "hrWKyv5BvLmD"
      },
      "execution_count": null,
      "outputs": []
    },
    {
      "cell_type": "code",
      "source": [
        "from keras.models import load_model"
      ],
      "metadata": {
        "id": "9sD_kX7VvQxU"
      },
      "execution_count": null,
      "outputs": []
    },
    {
      "cell_type": "code",
      "source": [
        "model =load_model(\"/content/bestmodel.keras\")"
      ],
      "metadata": {
        "id": "jzQrZ7dUvUVu"
      },
      "execution_count": null,
      "outputs": []
    },
    {
      "cell_type": "code",
      "source": [
        "cc = model.evaluate(test_data)[1]  # Simply use model.evaluate()\n",
        "\n",
        "print(f\"accuracy {cc*100:.2f}%\")"
      ],
      "metadata": {
        "id": "wp73srkuvccf"
      },
      "execution_count": null,
      "outputs": []
    },
    {
      "cell_type": "code",
      "source": [
        "from keras.preprocessing.image import load_img,img_to_array"
      ],
      "metadata": {
        "id": "0cGTt4Mmw512"
      },
      "execution_count": null,
      "outputs": []
    },
    {
      "cell_type": "code",
      "source": [
        "path = \"/content/test/yes/Y21.jpg\"\n",
        "img = load_img(path, target_size=(224, 224))  # Load image and resize\n",
        "input_arr = img_to_array(img) / 255.0         # Convert to array and normalize\n",
        "\n",
        "# Display the image\n",
        "plt.imshow(input_arr)\n",
        "plt.axis('off')  # Optional: Hide axis for clean display\n",
        "plt.show()\n",
        "\n",
        "# Add batch dimension\n",
        "input_arr = np.expand_dims(input_arr, axis=0)\n",
        "\n",
        "# Get the predicted probability\n",
        "pred = model.predict(input_arr)[0][0]\n",
        "\n",
        "# Convert probability to binary class (0 or 1) using a threshold\n",
        "pred_class = 1 if pred > 0.5 else 0\n",
        "\n",
        "print(f\"Predicted probability: {pred}\")\n",
        "if(pred_class==0):\n",
        "  print(\"No Tumor\")\n",
        "else:\n",
        "  print(\"Tumor\")\n",
        "\n"
      ],
      "metadata": {
        "id": "ZK3LCh5gvnSk"
      },
      "execution_count": null,
      "outputs": []
    },
    {
      "cell_type": "code",
      "source": [
        "train_data.class_indices"
      ],
      "metadata": {
        "id": "D19YNiDTxo4Z"
      },
      "execution_count": null,
      "outputs": []
    },
    {
      "cell_type": "code",
      "source": [],
      "metadata": {
        "id": "NCBcjM2S2pMj"
      },
      "execution_count": null,
      "outputs": []
    },
    {
      "cell_type": "markdown",
      "source": [
        "BY mobilenet model\n"
      ],
      "metadata": {
        "id": "6NVu5khROOY7"
      }
    },
    {
      "cell_type": "code",
      "source": [
        " import numpy as np\n",
        " import matplotlib.pyplot as plt\n",
        " from keras.layers import Flatten, Dense\n",
        " from keras.models import Model, load_model\n",
        " from keras.applications.mobilenet import MobileNet, preprocess_input\n",
        " import keras\n",
        "\n"
      ],
      "metadata": {
        "id": "uRV-vA_4OUWr"
      },
      "execution_count": null,
      "outputs": []
    },
    {
      "cell_type": "code",
      "source": [
        "base_model=MobileNet(input_shape=(224,224,3), include_top=False)"
      ],
      "metadata": {
        "id": "wBmCUuFTPr4_"
      },
      "execution_count": null,
      "outputs": []
    },
    {
      "cell_type": "code",
      "source": [
        "for layer in base_model.layers:\n",
        "    layer.trainable = False"
      ],
      "metadata": {
        "id": "9f6s_osMRVFR"
      },
      "execution_count": null,
      "outputs": []
    },
    {
      "cell_type": "code",
      "source": [
        "X=Flatten()(base_model.output)\n",
        "X=Dense(units=1, activation='sigmoid')(X)\n",
        "\n",
        "model=Model(base_model.input,X)"
      ],
      "metadata": {
        "id": "GXkwNKvNRY8w"
      },
      "execution_count": null,
      "outputs": []
    },
    {
      "cell_type": "code",
      "source": [
        "model.summary()"
      ],
      "metadata": {
        "id": "xp-Wm5QARbgY"
      },
      "execution_count": null,
      "outputs": []
    },
    {
      "cell_type": "code",
      "source": [
        "model.compile(optimizer='adam', loss=keras.losses.binary_crossentropy, metrics=['accuracy'])"
      ],
      "metadata": {
        "id": "igoxAlf_RpS1"
      },
      "execution_count": null,
      "outputs": []
    },
    {
      "cell_type": "code",
      "source": [
        "from keras.callbacks import ModelCheckpoint, EarlyStopping\n",
        "\n",
        "es=EarlyStopping(monitor='val_accuracy',min_delta=0.01,patience=10,verbose=1,mode ='auto')\n",
        "mc= ModelCheckpoint(monitor=\"val_accuracy\",filepath=\"./bestmodel.keras\", verbose=1 , save_best_only=True , mode ='auto')\n",
        "cd= [es,mc]"
      ],
      "metadata": {
        "id": "U0OK6phJSNnV"
      },
      "execution_count": null,
      "outputs": []
    },
    {
      "cell_type": "code",
      "source": [
        "hs = model.fit(\n",
        "    train_data,                 # Pass the training generator or dataset here\n",
        "    steps_per_epoch=10,         # Adjust steps_per_epoch based on your data size\n",
        "    epochs=30,                  # Set the number of epochs\n",
        "    verbose=1,                  # Verbosity mode (1 = progress bar, 0 = silent)\n",
        "    validation_data=val_data,   # Validation dataset/generator\n",
        "    validation_steps=16,        # Adjust based on validation set size\n",
        "    callbacks=cd                # Add any callbacks, e.g., EarlyStopping, ModelCheckpoint\n",
        ")\n"
      ],
      "metadata": {
        "id": "wpzXtXQxR3FQ"
      },
      "execution_count": null,
      "outputs": []
    },
    {
      "cell_type": "code",
      "source": [
        "model=load_model(\"/content/bestmodel.keras\")"
      ],
      "metadata": {
        "id": "bZlXmyWDUHK3"
      },
      "execution_count": null,
      "outputs": []
    },
    {
      "cell_type": "code",
      "source": [
        "acc=model.evaluate(test_data)[1]\n",
        "print(f\"Accuracy {acc*100:.2f}%\")"
      ],
      "metadata": {
        "id": "fQl0FabsUMt2"
      },
      "execution_count": null,
      "outputs": []
    },
    {
      "cell_type": "code",
      "source": [
        "h=hs.history\n",
        "h.keys()"
      ],
      "metadata": {
        "id": "DJHDxJ_oUTLd"
      },
      "execution_count": null,
      "outputs": []
    },
    {
      "cell_type": "code",
      "source": [
        "from tensorflow.keras.preprocessing import image  # Import the image module\n",
        "import numpy as np"
      ],
      "metadata": {
        "id": "c2nCNWJ5WpRu"
      },
      "execution_count": null,
      "outputs": []
    },
    {
      "cell_type": "code",
      "source": [
        "path=\"/content/valid/yes/Y103.jpg\"\n",
        "img=image.load_img(path,target_size=(224,224))\n",
        "i=image.img_to_array(img)/255\n",
        "input_arr=np.array([i])\n",
        "input_arr.shape\n",
        "\n",
        "pred=np.argmax(model.predict(input_arr))\n",
        "if pred==0:\n",
        "  print(\"No Tumor\")\n",
        "else:\n",
        "  print(\"Tumor\")\n",
        "\n",
        "plt.imshow(input_arr[0])\n",
        "plt.title(\"input image\")\n",
        "plt.show()\n",
        "\n"
      ],
      "metadata": {
        "id": "VKE5AuciUXeV"
      },
      "execution_count": null,
      "outputs": []
    }
  ]
}